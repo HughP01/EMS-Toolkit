import pandas as pd

# Load data
url = "https://raw.githubusercontent.com/JehielT/World-Happiness-Report/master/data.csv"
df = pd.read_csv(url)
df.head()
